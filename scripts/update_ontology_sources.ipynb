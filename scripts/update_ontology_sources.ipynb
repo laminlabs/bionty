{
 "cells": [
  {
   "cell_type": "markdown",
   "id": "32bd32d7",
   "metadata": {},
   "source": [
    "# Update ontology sources"
   ]
  },
  {
   "cell_type": "code",
   "execution_count": null,
   "id": "66ec8c1e",
   "metadata": {},
   "outputs": [],
   "source": [
    "!lamin connect laminlabs/bionty-assets"
   ]
  },
  {
   "cell_type": "code",
   "execution_count": null,
   "id": "905819d0",
   "metadata": {},
   "outputs": [],
   "source": [
    "import bionty as bt\n",
    "import lamindb as ln\n",
    "from bionty.core._source import register_source_in_bionty_assets\n",
    "from lamin_utils import logger\n",
    "\n",
    "ln.track()"
   ]
  },
  {
   "cell_type": "markdown",
   "id": "cff430f5",
   "metadata": {},
   "source": [
    "All entities that are not listed in the following matrix must be curated manually as they require intervention.\n",
    "Please consult https://bionty-assets-gczz.netlify.app/ingest/ for examples."
   ]
  },
  {
   "cell_type": "code",
   "execution_count": null,
   "id": "6528e454",
   "metadata": {},
   "outputs": [],
   "source": [
    "for entity, source_name, organism in [\n",
    "    (\"Disease\", \"mondo\", \"all\"),\n",
    "    (\"CellType\", \"cl\", \"all\"),\n",
    "    (\"Tissue\", \"uberon\", \"all\"),\n",
    "    (\"Disease\", \"doid\", \"human\"),\n",
    "    (\"ExperimentalFactor\", \"efo\", \"all\"),\n",
    "    (\"Phenotype\", \"pato\", \"all\"),\n",
    "    (\"Phenotype\", \"hp\", \"human\"),\n",
    "    (\"Pathway\", \"go\", \"all\"),\n",
    "    # (\"Pathway\", \"pw\", \"all\"),  Currently leads to a URL error - upstream issue\n",
    "    (\"DevelopmentalStage\", \"hsapdv\", \"human\"),\n",
    "    (\"DevelopmentalStage\", \"mmusdv\", \"mouse\"),\n",
    "    (\"Ethnicity\", \"hancestro\", \"human\"),\n",
    "    # (\"Drug\", \"dron\", \"all\"),  Not a Bionty entity (yet)\n",
    "]:\n",
    "    from bionty.base._ontology_url import get_ontology_url\n",
    "\n",
    "    _, latest_version = get_ontology_url(prefix=source_name)\n",
    "    if bt.Source.filter(\n",
    "        entity=f\"bionty.{entity}\",\n",
    "        name=source_name,\n",
    "        organism=organism,\n",
    "        version=latest_version,\n",
    "    ).one_or_none():\n",
    "        logger.warning(\n",
    "            f\"Entiy {entity} using source {source_name} of version {latest_version} and organism {organism} is already registered. Skipping...\"\n",
    "        )\n",
    "        continue\n",
    "\n",
    "    # TODO add sanity check that the new DF has more rows than the last version\n",
    "\n",
    "    print(f\"{entity:<20} {source_name:<10} {latest_version:<12} {organism}\")\n",
    "\n",
    "    getattr(bt.base, entity)(source=source_name, version=latest_version).df()\n",
    "    # There should now be two output files in your bionty repo `bionty/base/_dynamic/` folder:\n",
    "    # a parquet file: `df_xxxxx.parquet`\n",
    "    # an ontology file: `ontology_xxxx`\n",
    "\n",
    "    source_rec = getattr(bt, entity).add_source(\n",
    "        source=source_name, version=latest_version\n",
    "    )\n",
    "\n",
    "    try:\n",
    "        actual_entity = source_rec.entity\n",
    "        register_source_in_bionty_assets(\n",
    "            f\"bionty/base/_dynamic/df_{organism}__{source_name}__{latest_version}__{actual_entity}.parquet\",\n",
    "            source=source_rec,\n",
    "            is_dataframe=True,\n",
    "        )\n",
    "        register_source_in_bionty_assets(\n",
    "            f\"bionty/base/_dynamic/ontology_{organism}__{source_name}__{latest_version}__{actual_entity}\",\n",
    "            source=source_rec,\n",
    "            is_dataframe=False,\n",
    "        )\n",
    "        logger.info(\n",
    "            f\"Registered a new version {latest_version} of {entity}. Ensure that it is the latest version in the `source.yaml` file.\"\n",
    "        )\n",
    "    except ValueError as e:\n",
    "        if \"artifact already exists\" in str(e):\n",
    "            logger.warning(\n",
    "                f\"Entiy {entity} using source {source_name} of version {latest_version} and organism {organism} is already registered. Skipping...\"\n",
    "            )\n",
    "    except FileNotFoundError:\n",
    "        logger.warning(\n",
    "            f\"Entiy {entity} using source {source_name} of version {latest_version} and organism {organism} file cannot be found.\"\n",
    "            \"This can happen if the ontology was previously registered and the pronto ontology files does not get recreated. Skipping...\"\n",
    "        )"
   ]
  },
  {
   "cell_type": "code",
   "execution_count": null,
   "id": "f93f3b4a",
   "metadata": {},
   "outputs": [],
   "source": [
    "ln.finish()"
   ]
  }
 ],
 "metadata": {
  "kernelspec": {
   "display_name": "lamindb",
   "language": "python",
   "name": "python3"
  },
  "language_info": {
   "codemirror_mode": {
    "name": "ipython",
    "version": 3
   },
   "file_extension": ".py",
   "mimetype": "text/x-python",
   "name": "python",
   "nbconvert_exporter": "python",
   "pygments_lexer": "ipython3",
   "version": "3.12.8"
  }
 },
 "nbformat": 4,
 "nbformat_minor": 5
}
