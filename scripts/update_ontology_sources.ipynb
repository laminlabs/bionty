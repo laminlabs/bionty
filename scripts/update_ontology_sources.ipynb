{
 "cells": [
  {
   "cell_type": "markdown",
   "id": "32bd32d7",
   "metadata": {},
   "source": [
    "# Update ontology sources"
   ]
  },
  {
   "cell_type": "code",
   "execution_count": null,
   "id": "66ec8c1e",
   "metadata": {},
   "outputs": [],
   "source": [
    "!lamin connect laminlabs/bionty-assets"
   ]
  },
  {
   "cell_type": "code",
   "execution_count": null,
   "id": "905819d0",
   "metadata": {},
   "outputs": [],
   "source": [
    "import lamindb as ln\n",
    "from lamin_utils import logger\n",
    "from update_ontology_utils import process_ontology\n",
    "\n",
    "ln.settings.verbosity = \"hint\"\n",
    "\n",
    "ln.track(\"7extigZj6QNG\")"
   ]
  },
  {
   "cell_type": "markdown",
   "id": "cff430f5",
   "metadata": {},
   "source": [
    "All entities that are not listed in the following matrix must be curated manually as they require intervention.\n",
    "Consult https://bionty-assets-gczz.netlify.app/ingest/ for guidance."
   ]
  },
  {
   "cell_type": "code",
   "execution_count": null,
   "id": "321c31b9",
   "metadata": {},
   "outputs": [],
   "source": [
    "configs = [\n",
    "    (\"Disease\", \"mondo\", \"all\"),\n",
    "    (\"CellType\", \"cl\", \"all\"),\n",
    "    (\"Organism\", \"ncbitaxon\", \"all\"),\n",
    "    (\n",
    "        \"Tissue\",\n",
    "        \"uberon\",\n",
    "        \"all\",\n",
    "    ),  # This may take a long time due to parsing, set verbosity to hint to see progress updates\n",
    "    (\"Disease\", \"doid\", \"human\"),\n",
    "    (\"ExperimentalFactor\", \"efo\", \"all\"),\n",
    "    (\"Phenotype\", \"pato\", \"all\"),\n",
    "    (\"Phenotype\", \"hp\", \"human\"),\n",
    "    (\"Pathway\", \"go\", \"all\"),\n",
    "    # (\"Pathway\", \"pw\", \"all\"), Currently leads to a URL error - upstream issue\n",
    "    (\"DevelopmentalStage\", \"hsapdv\", \"human\"),\n",
    "    (\"DevelopmentalStage\", \"mmusdv\", \"mouse\"),\n",
    "    (\"Ethnicity\", \"hancestro\", \"human\"),\n",
    "    # (\"Drug\", \"dron\", \"all\"), Not a Bionty entity (yet)\n",
    "]"
   ]
  },
  {
   "cell_type": "code",
   "execution_count": null,
   "id": "ea6ccb59",
   "metadata": {},
   "outputs": [],
   "source": [
    "total_configs = len(configs)\n",
    "successful_configs = 0\n",
    "\n",
    "for i, config in enumerate(configs, 1):\n",
    "    entity, source_name, organism, *version = config\n",
    "    config_id = f\"{entity}_{source_name}_{organism}\"\n",
    "\n",
    "    logger.info(f\"[{i}/{total_configs}] Processing {config_id}\")\n",
    "\n",
    "    success = process_ontology(config)\n",
    "    if success:\n",
    "        successful_configs += 1\n",
    "\n",
    "logger.info(f\"successfully processed {successful_configs}/{total_configs} entities\")"
   ]
  },
  {
   "cell_type": "code",
   "execution_count": null,
   "id": "f93f3b4a",
   "metadata": {},
   "outputs": [],
   "source": [
    "ln.finish()"
   ]
  }
 ],
 "metadata": {
  "kernelspec": {
   "display_name": "lamindb",
   "language": "python",
   "name": "python3"
  },
  "language_info": {
   "codemirror_mode": {
    "name": "ipython",
    "version": 3
   },
   "file_extension": ".py",
   "mimetype": "text/x-python",
   "name": "python",
   "nbconvert_exporter": "python",
   "pygments_lexer": "ipython3",
   "version": "3.12.8"
  }
 },
 "nbformat": 4,
 "nbformat_minor": 5
}
