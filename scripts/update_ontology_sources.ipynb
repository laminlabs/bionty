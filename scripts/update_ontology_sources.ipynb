{
 "cells": [
  {
   "cell_type": "markdown",
   "id": "32bd32d7",
   "metadata": {},
   "source": [
    "# Update ontology sources"
   ]
  },
  {
   "cell_type": "code",
   "execution_count": null,
   "id": "66ec8c1e",
   "metadata": {},
   "outputs": [],
   "source": [
    "!lamin connect laminlabs/bionty-assets"
   ]
  },
  {
   "cell_type": "code",
   "execution_count": null,
   "id": "905819d0",
   "metadata": {},
   "outputs": [],
   "source": [
    "import bionty as bt\n",
    "import lamindb as ln\n",
    "from bionty.core._source import register_source_in_bionty_assets\n",
    "from lamin_utils import logger\n",
    "\n",
    "ln.track(\"7extigZj6QNG\")"
   ]
  },
  {
   "cell_type": "markdown",
   "id": "cff430f5",
   "metadata": {},
   "source": [
    "All entities that are not listed in the following matrix must be curated manually as they require intervention.\n",
    "Consult https://bionty-assets-gczz.netlify.app/ingest/ for guidance."
   ]
  },
  {
   "cell_type": "code",
   "execution_count": null,
   "id": "6528e454",
   "metadata": {},
   "outputs": [],
   "source": [
    "for entity, source_name, organism in [\n",
    "    (\"Disease\", \"mondo\", \"all\"),\n",
    "    (\"CellType\", \"cl\", \"all\"),\n",
    "    (\"Tissue\", \"uberon\", \"all\"),\n",
    "    (\"Disease\", \"doid\", \"human\"),\n",
    "    (\"ExperimentalFactor\", \"efo\", \"all\"),\n",
    "    (\"Phenotype\", \"pato\", \"all\"),\n",
    "    (\"Phenotype\", \"hp\", \"human\"),\n",
    "    (\"Pathway\", \"go\", \"all\"),\n",
    "    # (\"Pathway\", \"pw\", \"all\"),  Currently leads to a URL error - upstream issue\n",
    "    (\"DevelopmentalStage\", \"hsapdv\", \"human\"),\n",
    "    (\"DevelopmentalStage\", \"mmusdv\", \"mouse\"),\n",
    "    (\"Ethnicity\", \"hancestro\", \"human\"),\n",
    "    # (\"Drug\", \"dron\", \"all\"),  Not a Bionty entity (yet)\n",
    "]:\n",
    "    from bionty.base._ontology_url import get_ontology_url\n",
    "\n",
    "    _, latest_version = get_ontology_url(prefix=source_name)\n",
    "    logger.info(\n",
    "        f\"Processing...    {entity:<20} {source_name:<10} {latest_version:<12} {organism}\"\n",
    "    )\n",
    "\n",
    "    new_df = getattr(bt.base, entity)(source=source_name, version=latest_version).df()\n",
    "\n",
    "    try:\n",
    "        currently_used_source = bt.Source.filter(\n",
    "            entity=f\"bionty.{entity}\",\n",
    "            name=source_name,\n",
    "            organism=organism,\n",
    "            currently_used=True,\n",
    "        ).one_or_none()\n",
    "        if currently_used_source:\n",
    "            current_version_df = getattr(bt.base, entity)(\n",
    "                source=currently_used_source\n",
    "            ).df()\n",
    "            n_old = new_df.shape[0]\n",
    "            n_new = current_version_df.shape[0]\n",
    "            if n_old < n_new:\n",
    "                raise ValueError(f\"The new version has less rows: {n_new} < {n_old}\")\n",
    "    except ValueError as e:\n",
    "        if \"No source url is available\" in str(e):\n",
    "            # This occurs during testing in local instances where older versions are not registered\n",
    "            pass\n",
    "\n",
    "    source_rec = getattr(bt, entity).add_source(\n",
    "        source=source_name, version=latest_version\n",
    "    )\n",
    "\n",
    "    try:\n",
    "        register_source_in_bionty_assets(\n",
    "            f\"bionty/base/_dynamic/df_{organism}__{source_name}__{latest_version}__{entity}.parquet\",\n",
    "            source=source_rec,\n",
    "            is_dataframe=True,\n",
    "        )\n",
    "        register_source_in_bionty_assets(\n",
    "            f\"bionty/base/_dynamic/ontology_{organism}__{source_name}__{latest_version}__{entity}\",\n",
    "            source=source_rec,\n",
    "            is_dataframe=False,\n",
    "        )\n",
    "        logger.info(\n",
    "            f\"Registered a new version {latest_version} of {entity}. Ensure that it is the latest version in the `source.yaml` file.\"\n",
    "        )\n",
    "    except ValueError as e:\n",
    "        if \"artifact already exists\" in str(e):\n",
    "            logger.warning(\n",
    "                f\"Entiy {entity} using source {source_name} of version {latest_version} and organism {organism} is already registered. Skipping...\"\n",
    "            )\n",
    "    except FileNotFoundError:\n",
    "        logger.warning(\n",
    "            f\"Entiy {entity} using source {source_name} of version {latest_version} and organism {organism} file cannot be found. \"\n",
    "            \"This can happen if the ontology was previously registered and the pronto ontology file did not get recreated. Skipping...\"\n",
    "        )"
   ]
  },
  {
   "cell_type": "code",
   "execution_count": null,
   "id": "f93f3b4a",
   "metadata": {},
   "outputs": [],
   "source": [
    "ln.finish()"
   ]
  }
 ],
 "metadata": {
  "kernelspec": {
   "display_name": "lamindb",
   "language": "python",
   "name": "python3"
  },
  "language_info": {
   "codemirror_mode": {
    "name": "ipython",
    "version": 3
   },
   "file_extension": ".py",
   "mimetype": "text/x-python",
   "name": "python",
   "nbconvert_exporter": "python",
   "pygments_lexer": "ipython3",
   "version": "3.12.8"
  }
 },
 "nbformat": 4,
 "nbformat_minor": 5
}
