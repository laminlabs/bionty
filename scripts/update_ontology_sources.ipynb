{
 "cells": [
  {
   "cell_type": "markdown",
   "id": "32bd32d7",
   "metadata": {},
   "source": [
    "# Update ontology sources"
   ]
  },
  {
   "cell_type": "code",
   "execution_count": null,
   "id": "66ec8c1e",
   "metadata": {},
   "outputs": [],
   "source": [
    "!lamin connect laminlabs/bionty-assets"
   ]
  },
  {
   "cell_type": "code",
   "execution_count": null,
   "id": "905819d0",
   "metadata": {},
   "outputs": [],
   "source": [
    "import bionty as bt\n",
    "import lamindb as ln\n",
    "from bionty.base._ontology_url import get_ontology_url\n",
    "from bionty.core._source import register_source_in_bionty_assets\n",
    "from lamin_utils import logger\n",
    "\n",
    "ln.settings.verbosity = \"hint\"\n",
    "\n",
    "ln.track(\"7extigZj6QNG\")"
   ]
  },
  {
   "cell_type": "markdown",
   "id": "cff430f5",
   "metadata": {},
   "source": [
    "All entities that are not listed in the following matrix must be curated manually as they require intervention.\n",
    "Consult https://bionty-assets-gczz.netlify.app/ingest/ for guidance."
   ]
  },
  {
   "cell_type": "code",
   "execution_count": null,
   "id": "321c31b9",
   "metadata": {},
   "outputs": [],
   "source": [
    "configs = [\n",
    "    (\"Disease\", \"mondo\", \"all\"),\n",
    "    (\"CellType\", \"cl\", \"all\", \"2025-04-10\"),\n",
    "    (\"Organism\", \"ncbitaxon\", \"all\"),\n",
    "    (\n",
    "        \"Tissue\",\n",
    "        \"uberon\",\n",
    "        \"all\",\n",
    "    ),  # This may take a long time due to parsing, set verbosity to hint to see progress updates\n",
    "    (\"Disease\", \"doid\", \"human\"),\n",
    "    (\"ExperimentalFactor\", \"efo\", \"all\"),\n",
    "    (\"Phenotype\", \"pato\", \"all\"),\n",
    "    (\"Phenotype\", \"hp\", \"human\"),\n",
    "    (\"Pathway\", \"go\", \"all\"),\n",
    "    # (\"Pathway\", \"pw\", \"all\"), Currently leads to a URL error - upstream issue\n",
    "    (\"DevelopmentalStage\", \"hsapdv\", \"human\"),\n",
    "    (\"DevelopmentalStage\", \"mmusdv\", \"mouse\"),\n",
    "    (\"Ethnicity\", \"hancestro\", \"human\"),\n",
    "    # (\"Drug\", \"dron\", \"all\"), Not a Bionty entity (yet)\n",
    "]"
   ]
  },
  {
   "cell_type": "code",
   "execution_count": null,
   "id": "c51bf23b",
   "metadata": {},
   "outputs": [],
   "source": [
    "for i, config in enumerate(configs, 1):\n",
    "    entity, source_name, organism, *version = config\n",
    "    config_id = f\"{entity}_{source_name}_{organism}\"\n",
    "\n",
    "    logger.info(f\"[{i}/{len(configs)}] Processing {config_id}\")\n",
    "\n",
    "    try:\n",
    "        *_, version_to_use = get_ontology_url(\n",
    "            prefix=source_name, version=version[0] if version else None\n",
    "        )\n",
    "        new_df = getattr(bt.base, entity)(\n",
    "            source=source_name, version=version_to_use\n",
    "        ).df()\n",
    "\n",
    "        # add some checks here, before I registed the source\n",
    "\n",
    "        source_rec = getattr(bt, entity).add_source(\n",
    "            source=source_name, version=version_to_use\n",
    "        )\n",
    "\n",
    "        try:\n",
    "            register_source_in_bionty_assets(\n",
    "                f\"{bt.base.settings.dynamicdir}/df_{organism}__{source_name}__{version_to_use}__{entity}.parquet\",\n",
    "                source=source_rec,\n",
    "                is_dataframe=True,\n",
    "            )\n",
    "            register_source_in_bionty_assets(\n",
    "                f\"{bt.base.settings.dynamicdir}/ontology_{organism}__{source_name}__{version_to_use}__{entity}\",\n",
    "                source=source_rec,\n",
    "                is_dataframe=False,\n",
    "            )\n",
    "        except ValueError as e:\n",
    "            if \"artifact already exists\" in str(e):\n",
    "                logger.warning(f\"{config_id} already registered. Skipping...\")\n",
    "                continue\n",
    "            else:\n",
    "                raise\n",
    "        except FileNotFoundError:\n",
    "            logger.warning(f\"{config_id} files not found. Skipping...\")\n",
    "            continue\n",
    "\n",
    "        logger.info(f\"registered {config_id} version {version_to_use}\")\n",
    "\n",
    "    except Exception as e:\n",
    "        logger.error(\n",
    "            f\"[{i}/{len(configs)}] {config_id} failed: {type(e).__name__}: {str(e)}\"\n",
    "        )\n",
    "        continue"
   ]
  },
  {
   "cell_type": "code",
   "execution_count": null,
   "id": "f93f3b4a",
   "metadata": {},
   "outputs": [],
   "source": [
    "ln.finish()"
   ]
  }
 ],
 "metadata": {
  "kernelspec": {
   "display_name": "lamindb",
   "language": "python",
   "name": "python3"
  },
  "language_info": {
   "codemirror_mode": {
    "name": "ipython",
    "version": 3
   },
   "file_extension": ".py",
   "mimetype": "text/x-python",
   "name": "python",
   "nbconvert_exporter": "python",
   "pygments_lexer": "ipython3",
   "version": "3.12.8"
  }
 },
 "nbformat": 4,
 "nbformat_minor": 5
}
