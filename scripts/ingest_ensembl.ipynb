{
 "cells": [
  {
   "cell_type": "markdown",
   "id": "c65988bb",
   "metadata": {},
   "source": [
    "# `Gene`: ensembl"
   ]
  },
  {
   "cell_type": "markdown",
   "id": "e2761da2",
   "metadata": {},
   "source": [
    "- https://www.ensembl.org/info/data/mysql.html\n",
    "\n",
    "- https://www.ensembl.org/info/docs/api/core/core_schema.html"
   ]
  },
  {
   "cell_type": "markdown",
   "id": "3e12ee03",
   "metadata": {},
   "source": [
    "Install mysqlclient: https://pypi.org/project/mysqlclient/"
   ]
  },
  {
   "cell_type": "code",
   "execution_count": null,
   "id": "f146ee18",
   "metadata": {},
   "outputs": [],
   "source": [
    "from typing import Literal\n",
    "\n",
    "from bionty.base.entities._gene import EnsemblGene\n",
    "from lamin_utils import logger"
   ]
  },
  {
   "cell_type": "code",
   "execution_count": null,
   "id": "81ca031c",
   "metadata": {},
   "outputs": [],
   "source": [
    "def ingest_ensembl_gene_data(\n",
    "    organism: Literal[\"human\", \"mouse\", \"saccharomyces cerevisiae\"], version: str\n",
    "):\n",
    "    \"\"\"Ingest gene data from Ensembl.\"\"\"\n",
    "    ensembl_gene = EnsemblGene(organism=organism, version=version)\n",
    "\n",
    "    df = ensembl_gene.download_df()\n",
    "    df[\"description\"] = df[\"description\"].str.replace(r\"\\[.*?\\]\", \"\", regex=True)\n",
    "\n",
    "    df.to_parquet(f\"df_{organism}_ensembl_{version}_gene.parquet\")\n",
    "\n",
    "    df_legacy = ensembl_gene.download_legacy_ids_df(df, col=\"stable_id\")\n",
    "\n",
    "    logger.info(f\"Legacy data shape: {df_legacy.shape}\")\n",
    "\n",
    "    return df, df_legacy"
   ]
  }
 ],
 "metadata": {
  "kernelspec": {
   "display_name": "lamin_new",
   "language": "python",
   "name": "lamin_new"
  },
  "language_info": {
   "codemirror_mode": {
    "name": "ipython",
    "version": 3
   },
   "file_extension": ".py",
   "mimetype": "text/x-python",
   "name": "python",
   "nbconvert_exporter": "python",
   "pygments_lexer": "ipython3",
   "version": "3.12.2"
  }
 },
 "nbformat": 4,
 "nbformat_minor": 5
}
